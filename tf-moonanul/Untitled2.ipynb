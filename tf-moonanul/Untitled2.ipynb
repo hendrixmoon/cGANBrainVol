{
 "cells": [
  {
   "cell_type": "code",
   "execution_count": 1,
   "id": "1d7ed1b4-5274-4971-a464-6eef6c77f716",
   "metadata": {},
   "outputs": [],
   "source": [
    "import nipype"
   ]
  },
  {
   "cell_type": "code",
   "execution_count": null,
   "id": "084ce5fe-c0dc-4cdc-8faf-e91b62af73e0",
   "metadata": {},
   "outputs": [],
   "source": []
  }
 ],
 "metadata": {
  "kernelspec": {
   "display_name": "Python 3 (ipykernel)",
   "language": "python",
   "name": "python3"
  },
  "language_info": {
   "codemirror_mode": {
    "name": "ipython",
    "version": 3
   },
   "file_extension": ".py",
   "mimetype": "text/x-python",
   "name": "python",
   "nbconvert_exporter": "python",
   "pygments_lexer": "ipython3",
   "version": "3.8.10"
  }
 },
 "nbformat": 4,
 "nbformat_minor": 5
}
