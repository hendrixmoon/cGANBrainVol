{
 "cells": [
  {
   "cell_type": "code",
   "execution_count": 4,
   "id": "2ab8d24f-d982-474f-85b8-604d4eafd13c",
   "metadata": {},
   "outputs": [],
   "source": [
    "from nipype import DataGrabber, Node"
   ]
  },
  {
   "cell_type": "code",
   "execution_count": 5,
   "id": "e5c84e63-83d3-47c6-ae8c-02be6f5055f4",
   "metadata": {},
   "outputs": [],
   "source": [
    "import nilearn\n",
    "import nipype.interfaces.io as nio\n",
    "# Using the IdentityInterface\n",
    "from nipype import IdentityInterface"
   ]
  },
  {
   "cell_type": "code",
   "execution_count": 9,
   "id": "b95d42bb-4e6d-4044-94c9-e06a455706df",
   "metadata": {},
   "outputs": [
    {
     "data": {
      "text/plain": [
       "'/tf-moonanul'"
      ]
     },
     "execution_count": 9,
     "metadata": {},
     "output_type": "execute_result"
    }
   ],
   "source": [
    "pwd"
   ]
  },
  {
   "cell_type": "code",
   "execution_count": 13,
   "id": "9621bbad-aa16-471a-960c-025c73c54f4f",
   "metadata": {},
   "outputs": [],
   "source": [
    "import os"
   ]
  },
  {
   "cell_type": "code",
   "execution_count": 26,
   "id": "90c6a298-b77c-45c3-9a67-e0edafd3c085",
   "metadata": {},
   "outputs": [
    {
     "name": "stdout",
     "output_type": "stream",
     "text": [
      " CNN_Assignment_11.17.ipynb               basic_import_workflows.ipynb\n",
      " Neural_Nets_Project_conv3d_FINAL.ipynb   example_preprocessing.ipynb\n",
      "\u001b[0m\u001b[01;34m'Untitled Folder'\u001b[0m/                        image_manipulation_nibabel.ipynb\n",
      " Untitled.ipynb                           image_manipulation_nilearn.ipynb\n",
      " Untitled1.ipynb                          index.ipynb\n",
      " Untitled2.ipynb                          machine_learning_keras.ipynb\n",
      " Untitled3.ipynb                          machine_learning_nilearn.ipynb\n",
      " advanced_aws.ipynb                       machine_learning_preparation.ipynb\n",
      " basic_data_input.ipynb                   nipype_handson_preprocessing.ipynb\n",
      " basic_data_output.ipynb                  statistical_analyses_MRI.ipynb\n"
     ]
    }
   ],
   "source": [
    "ls"
   ]
  },
  {
   "cell_type": "code",
   "execution_count": 20,
   "id": "8feb108b-b881-46e0-a32b-568826b3325e",
   "metadata": {},
   "outputs": [],
   "source": [
    "from nipype.utils.filemanip import Path"
   ]
  },
  {
   "cell_type": "code",
   "execution_count": 23,
   "id": "636467c1-6959-4933-810c-babd0ab66961",
   "metadata": {},
   "outputs": [
    {
     "data": {
      "text/plain": [
       "PosixPath('/project/tf-moonanul/ds004169')"
      ]
     },
     "execution_count": 23,
     "metadata": {},
     "output_type": "execute_result"
    }
   ],
   "source": [
    "Path('/project/tf-moonanul/ds004169')"
   ]
  },
  {
   "cell_type": "code",
   "execution_count": 27,
   "id": "31513866-b9d6-4e7c-998d-d6e318bf9bb1",
   "metadata": {},
   "outputs": [],
   "source": [
    "#nilearn.datasets.fetch_openneuro_dataset(urls=None, data_dir=None, dataset_version='ds004169_R1.0.6', verbose=1)\n",
    "#docker run -it --rm -v /path/to/data/on/host:/path/to/data/in/container\n",
    "import nipype.interfaces.io as nio\n",
    "from nipype import SelectFiles, Node\n",
    "\n",
    "# String template with {}-based strings\n",
    "templates = {'anat': 'sub-{subject_id}/ses-{ses_name}/anat/sub-{subject_id}_ses-{ses_name}_T1w.nii',\n",
    "             'func': 'sub-{subject_id}/ses-{ses_name}/func/sub-{subject_id}_ses-{ses_name}_task-{nback}_bold.nii'}\n",
    "\n",
    "# Create SelectFiles node\n",
    "sf = Node(SelectFiles(templates),\n",
    "          name='selectfiles')"
   ]
  },
  {
   "cell_type": "code",
   "execution_count": 33,
   "id": "7190a448-24c9-41e6-8cb4-0f45d72f7dd9",
   "metadata": {},
   "outputs": [
    {
     "ename": "SyntaxError",
     "evalue": "invalid syntax (2280320617.py, line 1)",
     "output_type": "error",
     "traceback": [
      "\u001b[0;36m  Cell \u001b[0;32mIn [33], line 1\u001b[0;36m\u001b[0m\n\u001b[0;31m    sf.inputs.base_directory = 'Path('~/project/tf-moonanul/ds004169')'\u001b[0m\n\u001b[0m                                      ^\u001b[0m\n\u001b[0;31mSyntaxError\u001b[0m\u001b[0;31m:\u001b[0m invalid syntax\n"
     ]
    }
   ],
   "source": [
    "sf.inputs.base_directory = 'Path('~/project/tf-moonanul/ds004169')'"
   ]
  },
  {
   "cell_type": "code",
   "execution_count": 34,
   "id": "5f449a9d-538f-49a7-a048-26d63ee63c0b",
   "metadata": {},
   "outputs": [
    {
     "data": {
      "text/plain": [
       "'/tf-moonanul'"
      ]
     },
     "execution_count": 34,
     "metadata": {},
     "output_type": "execute_result"
    }
   ],
   "source": [
    "pwd"
   ]
  },
  {
   "cell_type": "code",
   "execution_count": 35,
   "id": "fe85fca8-e0da-4f96-a823-fbfa11dadb23",
   "metadata": {},
   "outputs": [
    {
     "name": "stdout",
     "output_type": "stream",
     "text": [
      " CNN_Assignment_11.17.ipynb               basic_import_workflows.ipynb\n",
      " Neural_Nets_Project_conv3d_FINAL.ipynb   example_preprocessing.ipynb\n",
      "\u001b[0m\u001b[01;34m'Untitled Folder'\u001b[0m/                        image_manipulation_nibabel.ipynb\n",
      " Untitled.ipynb                           image_manipulation_nilearn.ipynb\n",
      " Untitled1.ipynb                          index.ipynb\n",
      " Untitled2.ipynb                          machine_learning_keras.ipynb\n",
      " Untitled3.ipynb                          machine_learning_nilearn.ipynb\n",
      " advanced_aws.ipynb                       machine_learning_preparation.ipynb\n",
      " basic_data_input.ipynb                   nipype_handson_preprocessing.ipynb\n",
      " basic_data_output.ipynb                  statistical_analyses_MRI.ipynb\n"
     ]
    }
   ],
   "source": [
    "ls"
   ]
  },
  {
   "cell_type": "code",
   "execution_count": null,
   "id": "cc8d7538-daf0-4f5c-b40e-2218a6e03acf",
   "metadata": {},
   "outputs": [],
   "source": []
  }
 ],
 "metadata": {
  "kernelspec": {
   "display_name": "Python 3 (ipykernel)",
   "language": "python",
   "name": "python3"
  },
  "language_info": {
   "codemirror_mode": {
    "name": "ipython",
    "version": 3
   },
   "file_extension": ".py",
   "mimetype": "text/x-python",
   "name": "python",
   "nbconvert_exporter": "python",
   "pygments_lexer": "ipython3",
   "version": "3.8.10"
  }
 },
 "nbformat": 4,
 "nbformat_minor": 5
}
