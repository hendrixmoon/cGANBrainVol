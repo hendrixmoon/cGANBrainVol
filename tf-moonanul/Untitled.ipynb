{
 "cells": [
  {
   "cell_type": "code",
   "execution_count": 2,
   "id": "2ab8d24f-d982-474f-85b8-604d4eafd13c",
   "metadata": {},
   "outputs": [
    {
     "ename": "ModuleNotFoundError",
     "evalue": "No module named 'nipype'",
     "output_type": "error",
     "traceback": [
      "\u001b[0;31m---------------------------------------------------------------------------\u001b[0m",
      "\u001b[0;31mModuleNotFoundError\u001b[0m                       Traceback (most recent call last)",
      "Cell \u001b[0;32mIn [2], line 1\u001b[0m\n\u001b[0;32m----> 1\u001b[0m \u001b[38;5;28;01mfrom\u001b[39;00m \u001b[38;5;21;01mnipype\u001b[39;00m \u001b[38;5;28;01mimport\u001b[39;00m DataGrabber, Node\n",
      "\u001b[0;31mModuleNotFoundError\u001b[0m: No module named 'nipype'"
     ]
    }
   ],
   "source": [
    "from nipype import DataGrabber, Node"
   ]
  },
  {
   "cell_type": "code",
   "execution_count": null,
   "id": "e5c84e63-83d3-47c6-ae8c-02be6f5055f4",
   "metadata": {},
   "outputs": [],
   "source": []
  }
 ],
 "metadata": {
  "kernelspec": {
   "display_name": "Python 3 (ipykernel)",
   "language": "python",
   "name": "python3"
  },
  "language_info": {
   "codemirror_mode": {
    "name": "ipython",
    "version": 3
   },
   "file_extension": ".py",
   "mimetype": "text/x-python",
   "name": "python",
   "nbconvert_exporter": "python",
   "pygments_lexer": "ipython3",
   "version": "3.8.10"
  }
 },
 "nbformat": 4,
 "nbformat_minor": 5
}
